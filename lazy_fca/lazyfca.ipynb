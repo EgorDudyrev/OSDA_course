{
 "cells": [
  {
   "cell_type": "markdown",
   "metadata": {},
   "source": [
    "Make the notebook wider (if you think this makes the notebook look prettier)"
   ]
  },
  {
   "cell_type": "code",
   "execution_count": 1,
   "metadata": {},
   "outputs": [
    {
     "data": {
      "text/html": [
       "<style>.container { width:90% !important; }</style>"
      ],
      "text/plain": [
       "<IPython.core.display.HTML object>"
      ]
     },
     "metadata": {},
     "output_type": "display_data"
    }
   ],
   "source": [
    "from IPython.display import display, HTML\n",
    "display(HTML(\"<style>.container { width:90% !important; }</style>\"))"
   ]
  },
  {
   "cell_type": "markdown",
   "metadata": {},
   "source": [
    "Import the library with all predefine functions"
   ]
  },
  {
   "cell_type": "code",
   "execution_count": 2,
   "metadata": {},
   "outputs": [],
   "source": [
    "import lazy_pipeline as lpipe"
   ]
  },
  {
   "cell_type": "raw",
   "metadata": {},
   "source": [
    "from importlib import reload\n",
    "lpipe = reload(lpipe)  # A way to reload functions from lpipe package without reloading the whole kernel (might be usefull if you are in a middle of a notebook)"
   ]
  },
  {
   "cell_type": "markdown",
   "metadata": {},
   "source": [
    "# Prepare the data"
   ]
  },
  {
   "cell_type": "markdown",
   "metadata": {},
   "source": [
    "Load data"
   ]
  },
  {
   "cell_type": "code",
   "execution_count": 3,
   "metadata": {},
   "outputs": [
    {
     "name": "stdout",
     "output_type": "stream",
     "text": [
      "(958, 10)\n"
     ]
    },
    {
     "data": {
      "text/html": [
       "<div>\n",
       "<style scoped>\n",
       "    .dataframe tbody tr th:only-of-type {\n",
       "        vertical-align: middle;\n",
       "    }\n",
       "\n",
       "    .dataframe tbody tr th {\n",
       "        vertical-align: top;\n",
       "    }\n",
       "\n",
       "    .dataframe thead th {\n",
       "        text-align: right;\n",
       "    }\n",
       "</style>\n",
       "<table border=\"1\" class=\"dataframe\">\n",
       "  <thead>\n",
       "    <tr style=\"text-align: right;\">\n",
       "      <th></th>\n",
       "      <th>top-left-square</th>\n",
       "      <th>top-middle-square</th>\n",
       "      <th>top-right-square</th>\n",
       "      <th>middle-left-square</th>\n",
       "      <th>middle-middle-square</th>\n",
       "      <th>middle-right-square</th>\n",
       "      <th>bottom-left-square</th>\n",
       "      <th>bottom-middle-square</th>\n",
       "      <th>bottom-right-square</th>\n",
       "      <th>Class</th>\n",
       "    </tr>\n",
       "  </thead>\n",
       "  <tbody>\n",
       "    <tr>\n",
       "      <th>0</th>\n",
       "      <td>x</td>\n",
       "      <td>x</td>\n",
       "      <td>x</td>\n",
       "      <td>x</td>\n",
       "      <td>o</td>\n",
       "      <td>o</td>\n",
       "      <td>x</td>\n",
       "      <td>o</td>\n",
       "      <td>o</td>\n",
       "      <td>True</td>\n",
       "    </tr>\n",
       "    <tr>\n",
       "      <th>1</th>\n",
       "      <td>x</td>\n",
       "      <td>x</td>\n",
       "      <td>x</td>\n",
       "      <td>x</td>\n",
       "      <td>o</td>\n",
       "      <td>o</td>\n",
       "      <td>o</td>\n",
       "      <td>x</td>\n",
       "      <td>o</td>\n",
       "      <td>True</td>\n",
       "    </tr>\n",
       "    <tr>\n",
       "      <th>2</th>\n",
       "      <td>x</td>\n",
       "      <td>x</td>\n",
       "      <td>x</td>\n",
       "      <td>x</td>\n",
       "      <td>o</td>\n",
       "      <td>o</td>\n",
       "      <td>o</td>\n",
       "      <td>o</td>\n",
       "      <td>x</td>\n",
       "      <td>True</td>\n",
       "    </tr>\n",
       "    <tr>\n",
       "      <th>3</th>\n",
       "      <td>x</td>\n",
       "      <td>x</td>\n",
       "      <td>x</td>\n",
       "      <td>x</td>\n",
       "      <td>o</td>\n",
       "      <td>o</td>\n",
       "      <td>o</td>\n",
       "      <td>b</td>\n",
       "      <td>b</td>\n",
       "      <td>True</td>\n",
       "    </tr>\n",
       "    <tr>\n",
       "      <th>4</th>\n",
       "      <td>x</td>\n",
       "      <td>x</td>\n",
       "      <td>x</td>\n",
       "      <td>x</td>\n",
       "      <td>o</td>\n",
       "      <td>o</td>\n",
       "      <td>b</td>\n",
       "      <td>o</td>\n",
       "      <td>b</td>\n",
       "      <td>True</td>\n",
       "    </tr>\n",
       "  </tbody>\n",
       "</table>\n",
       "</div>"
      ],
      "text/plain": [
       "  top-left-square top-middle-square top-right-square middle-left-square  \\\n",
       "0               x                 x                x                  x   \n",
       "1               x                 x                x                  x   \n",
       "2               x                 x                x                  x   \n",
       "3               x                 x                x                  x   \n",
       "4               x                 x                x                  x   \n",
       "\n",
       "  middle-middle-square middle-right-square bottom-left-square  \\\n",
       "0                    o                   o                  x   \n",
       "1                    o                   o                  o   \n",
       "2                    o                   o                  o   \n",
       "3                    o                   o                  o   \n",
       "4                    o                   o                  b   \n",
       "\n",
       "  bottom-middle-square bottom-right-square  Class  \n",
       "0                    o                   o   True  \n",
       "1                    x                   o   True  \n",
       "2                    o                   x   True  \n",
       "3                    b                   b   True  \n",
       "4                    o                   b   True  "
      ]
     },
     "execution_count": 3,
     "metadata": {},
     "output_type": "execute_result"
    }
   ],
   "source": [
    "df = lpipe.load_data('tic_tac_toe')\n",
    "print(df.shape)\n",
    "df.head()"
   ]
  },
  {
   "cell_type": "markdown",
   "metadata": {},
   "source": [
    "Binarize data"
   ]
  },
  {
   "cell_type": "code",
   "execution_count": 4,
   "metadata": {},
   "outputs": [],
   "source": [
    "y_name = 'Class'"
   ]
  },
  {
   "cell_type": "code",
   "execution_count": 5,
   "metadata": {},
   "outputs": [
    {
     "name": "stdout",
     "output_type": "stream",
     "text": [
      "(958, 27)\n"
     ]
    },
    {
     "data": {
      "text/html": [
       "<div>\n",
       "<style scoped>\n",
       "    .dataframe tbody tr th:only-of-type {\n",
       "        vertical-align: middle;\n",
       "    }\n",
       "\n",
       "    .dataframe tbody tr th {\n",
       "        vertical-align: top;\n",
       "    }\n",
       "\n",
       "    .dataframe thead th {\n",
       "        text-align: right;\n",
       "    }\n",
       "</style>\n",
       "<table border=\"1\" class=\"dataframe\">\n",
       "  <thead>\n",
       "    <tr style=\"text-align: right;\">\n",
       "      <th></th>\n",
       "      <th>top-left-square: b</th>\n",
       "      <th>top-left-square: o</th>\n",
       "      <th>top-left-square: x</th>\n",
       "      <th>top-middle-square: b</th>\n",
       "      <th>top-middle-square: o</th>\n",
       "      <th>top-middle-square: x</th>\n",
       "      <th>top-right-square: b</th>\n",
       "      <th>top-right-square: o</th>\n",
       "      <th>top-right-square: x</th>\n",
       "      <th>middle-left-square: b</th>\n",
       "      <th>...</th>\n",
       "      <th>middle-right-square: x</th>\n",
       "      <th>bottom-left-square: b</th>\n",
       "      <th>bottom-left-square: o</th>\n",
       "      <th>bottom-left-square: x</th>\n",
       "      <th>bottom-middle-square: b</th>\n",
       "      <th>bottom-middle-square: o</th>\n",
       "      <th>bottom-middle-square: x</th>\n",
       "      <th>bottom-right-square: b</th>\n",
       "      <th>bottom-right-square: o</th>\n",
       "      <th>bottom-right-square: x</th>\n",
       "    </tr>\n",
       "  </thead>\n",
       "  <tbody>\n",
       "    <tr>\n",
       "      <th>0</th>\n",
       "      <td>False</td>\n",
       "      <td>False</td>\n",
       "      <td>True</td>\n",
       "      <td>False</td>\n",
       "      <td>False</td>\n",
       "      <td>True</td>\n",
       "      <td>False</td>\n",
       "      <td>False</td>\n",
       "      <td>True</td>\n",
       "      <td>False</td>\n",
       "      <td>...</td>\n",
       "      <td>False</td>\n",
       "      <td>False</td>\n",
       "      <td>False</td>\n",
       "      <td>True</td>\n",
       "      <td>False</td>\n",
       "      <td>True</td>\n",
       "      <td>False</td>\n",
       "      <td>False</td>\n",
       "      <td>True</td>\n",
       "      <td>False</td>\n",
       "    </tr>\n",
       "    <tr>\n",
       "      <th>1</th>\n",
       "      <td>False</td>\n",
       "      <td>False</td>\n",
       "      <td>True</td>\n",
       "      <td>False</td>\n",
       "      <td>False</td>\n",
       "      <td>True</td>\n",
       "      <td>False</td>\n",
       "      <td>False</td>\n",
       "      <td>True</td>\n",
       "      <td>False</td>\n",
       "      <td>...</td>\n",
       "      <td>False</td>\n",
       "      <td>False</td>\n",
       "      <td>True</td>\n",
       "      <td>False</td>\n",
       "      <td>False</td>\n",
       "      <td>False</td>\n",
       "      <td>True</td>\n",
       "      <td>False</td>\n",
       "      <td>True</td>\n",
       "      <td>False</td>\n",
       "    </tr>\n",
       "    <tr>\n",
       "      <th>2</th>\n",
       "      <td>False</td>\n",
       "      <td>False</td>\n",
       "      <td>True</td>\n",
       "      <td>False</td>\n",
       "      <td>False</td>\n",
       "      <td>True</td>\n",
       "      <td>False</td>\n",
       "      <td>False</td>\n",
       "      <td>True</td>\n",
       "      <td>False</td>\n",
       "      <td>...</td>\n",
       "      <td>False</td>\n",
       "      <td>False</td>\n",
       "      <td>True</td>\n",
       "      <td>False</td>\n",
       "      <td>False</td>\n",
       "      <td>True</td>\n",
       "      <td>False</td>\n",
       "      <td>False</td>\n",
       "      <td>False</td>\n",
       "      <td>True</td>\n",
       "    </tr>\n",
       "    <tr>\n",
       "      <th>3</th>\n",
       "      <td>False</td>\n",
       "      <td>False</td>\n",
       "      <td>True</td>\n",
       "      <td>False</td>\n",
       "      <td>False</td>\n",
       "      <td>True</td>\n",
       "      <td>False</td>\n",
       "      <td>False</td>\n",
       "      <td>True</td>\n",
       "      <td>False</td>\n",
       "      <td>...</td>\n",
       "      <td>False</td>\n",
       "      <td>False</td>\n",
       "      <td>True</td>\n",
       "      <td>False</td>\n",
       "      <td>True</td>\n",
       "      <td>False</td>\n",
       "      <td>False</td>\n",
       "      <td>True</td>\n",
       "      <td>False</td>\n",
       "      <td>False</td>\n",
       "    </tr>\n",
       "    <tr>\n",
       "      <th>4</th>\n",
       "      <td>False</td>\n",
       "      <td>False</td>\n",
       "      <td>True</td>\n",
       "      <td>False</td>\n",
       "      <td>False</td>\n",
       "      <td>True</td>\n",
       "      <td>False</td>\n",
       "      <td>False</td>\n",
       "      <td>True</td>\n",
       "      <td>False</td>\n",
       "      <td>...</td>\n",
       "      <td>False</td>\n",
       "      <td>True</td>\n",
       "      <td>False</td>\n",
       "      <td>False</td>\n",
       "      <td>False</td>\n",
       "      <td>True</td>\n",
       "      <td>False</td>\n",
       "      <td>True</td>\n",
       "      <td>False</td>\n",
       "      <td>False</td>\n",
       "    </tr>\n",
       "  </tbody>\n",
       "</table>\n",
       "<p>5 rows × 27 columns</p>\n",
       "</div>"
      ],
      "text/plain": [
       "   top-left-square: b  top-left-square: o  top-left-square: x  \\\n",
       "0               False               False                True   \n",
       "1               False               False                True   \n",
       "2               False               False                True   \n",
       "3               False               False                True   \n",
       "4               False               False                True   \n",
       "\n",
       "   top-middle-square: b  top-middle-square: o  top-middle-square: x  \\\n",
       "0                 False                 False                  True   \n",
       "1                 False                 False                  True   \n",
       "2                 False                 False                  True   \n",
       "3                 False                 False                  True   \n",
       "4                 False                 False                  True   \n",
       "\n",
       "   top-right-square: b  top-right-square: o  top-right-square: x  \\\n",
       "0                False                False                 True   \n",
       "1                False                False                 True   \n",
       "2                False                False                 True   \n",
       "3                False                False                 True   \n",
       "4                False                False                 True   \n",
       "\n",
       "   middle-left-square: b  ...  middle-right-square: x  bottom-left-square: b  \\\n",
       "0                  False  ...                   False                  False   \n",
       "1                  False  ...                   False                  False   \n",
       "2                  False  ...                   False                  False   \n",
       "3                  False  ...                   False                  False   \n",
       "4                  False  ...                   False                   True   \n",
       "\n",
       "   bottom-left-square: o  bottom-left-square: x  bottom-middle-square: b  \\\n",
       "0                  False                   True                    False   \n",
       "1                   True                  False                    False   \n",
       "2                   True                  False                    False   \n",
       "3                   True                  False                     True   \n",
       "4                  False                  False                    False   \n",
       "\n",
       "   bottom-middle-square: o  bottom-middle-square: x  bottom-right-square: b  \\\n",
       "0                     True                    False                   False   \n",
       "1                    False                     True                   False   \n",
       "2                     True                    False                   False   \n",
       "3                    False                    False                    True   \n",
       "4                     True                    False                    True   \n",
       "\n",
       "   bottom-right-square: o  bottom-right-square: x  \n",
       "0                    True                   False  \n",
       "1                    True                   False  \n",
       "2                   False                    True  \n",
       "3                   False                   False  \n",
       "4                   False                   False  \n",
       "\n",
       "[5 rows x 27 columns]"
      ]
     },
     "execution_count": 5,
     "metadata": {},
     "output_type": "execute_result"
    }
   ],
   "source": [
    "y = df[y_name]\n",
    "X = lpipe.binarize_X(df.drop(y_name, axis=1))\n",
    "print(X.shape)\n",
    "X.head()"
   ]
  },
  {
   "cell_type": "markdown",
   "metadata": {},
   "source": [
    "Shuffle the data to drop any initial ordering of rows. For example, if the dataset is constructed first from all positive examples and then all negative examples.\n",
    "\n",
    "_NB: Skip this step if your data is sequential and rows ordering is important. For example, if your dataset contains a \"date\" feature._"
   ]
  },
  {
   "cell_type": "code",
   "execution_count": 6,
   "metadata": {},
   "outputs": [],
   "source": [
    "X = X.sample(frac=1, random_state=42)  # Shuffle X\n",
    "y = y[X.index]  # Order y to follow the order of rows from X"
   ]
  },
  {
   "cell_type": "markdown",
   "metadata": {},
   "source": [
    "Represent data $X$ as list of subsets of attributes to better suit the theory."
   ]
  },
  {
   "cell_type": "code",
   "execution_count": 7,
   "metadata": {},
   "outputs": [
    {
     "data": {
      "text/plain": [
       "[{'bottom-left-square: x',\n",
       "  'bottom-middle-square: o',\n",
       "  'bottom-right-square: x',\n",
       "  'middle-left-square: b',\n",
       "  'middle-middle-square: x',\n",
       "  'middle-right-square: x',\n",
       "  'top-left-square: o',\n",
       "  'top-middle-square: o',\n",
       "  'top-right-square: o'}]"
      ]
     },
     "execution_count": 7,
     "metadata": {},
     "output_type": "execute_result"
    }
   ],
   "source": [
    "X_bin = [set(X.columns[x]) for idx, x in X.iterrows()]\n",
    "X_bin[:1]"
   ]
  },
  {
   "cell_type": "markdown",
   "metadata": {},
   "source": [
    "Assume that at the very begining, we know the labels only for the first 20% of rows."
   ]
  },
  {
   "cell_type": "code",
   "execution_count": 8,
   "metadata": {},
   "outputs": [
    {
     "data": {
      "text/plain": [
       "(95, 863)"
      ]
     },
     "execution_count": 8,
     "metadata": {},
     "output_type": "execute_result"
    }
   ],
   "source": [
    "n_train = int(len(X)*0.1)\n",
    "n_test = len(X) - n_train\n",
    "n_train, n_test"
   ]
  },
  {
   "cell_type": "markdown",
   "metadata": {},
   "source": [
    "# Make predictions"
   ]
  },
  {
   "cell_type": "markdown",
   "metadata": {},
   "source": [
    "Make predictions and measure time required to obtain these predictions"
   ]
  },
  {
   "cell_type": "code",
   "execution_count": 9,
   "metadata": {},
   "outputs": [
    {
     "name": "stderr",
     "output_type": "stream",
     "text": [
      "Predicting step by step: 100%|██████████| 958/958 [00:14<00:00, 66.79it/s] "
     ]
    },
    {
     "name": "stdout",
     "output_type": "stream",
     "text": [
      "CPU times: user 14.4 s, sys: 36.3 ms, total: 14.4 s\n",
      "Wall time: 14.4 s\n"
     ]
    },
    {
     "name": "stderr",
     "output_type": "stream",
     "text": [
      "\n"
     ]
    }
   ],
   "source": [
    "%%time\n",
    "gen = lpipe.predict_array(X_bin, y.values.tolist(), n_train, use_tqdm=True)\n",
    "y_preds, t_preds = lpipe.apply_stopwatch(gen)"
   ]
  },
  {
   "cell_type": "code",
   "execution_count": 10,
   "metadata": {},
   "outputs": [
    {
     "name": "stderr",
     "output_type": "stream",
     "text": [
      "Predicting step by step: 100%|██████████| 958/958 [00:00<00:00, 1911.24it/s]"
     ]
    },
    {
     "name": "stdout",
     "output_type": "stream",
     "text": [
      "CPU times: user 498 ms, sys: 7.81 ms, total: 505 ms\n",
      "Wall time: 503 ms\n"
     ]
    },
    {
     "name": "stderr",
     "output_type": "stream",
     "text": [
      "\n"
     ]
    }
   ],
   "source": [
    "%%time\n",
    "gen = list(lpipe.predict_array(X_bin, y.values.tolist(), n_train, use_tqdm=True, update_train=False))\n",
    "y_preds_fixedtrain, t_preds_fixedtrain = lpipe.apply_stopwatch(gen)"
   ]
  },
  {
   "cell_type": "markdown",
   "metadata": {},
   "source": [
    "Evaluate predictions"
   ]
  },
  {
   "cell_type": "code",
   "execution_count": 11,
   "metadata": {},
   "outputs": [],
   "source": [
    "y_test = y[n_train:]"
   ]
  },
  {
   "cell_type": "markdown",
   "metadata": {},
   "source": [
    "Here we decided to measure Accuracy and F1 score simply because there ones of the most popular scores. Feel free to use more elaborate scorings."
   ]
  },
  {
   "cell_type": "code",
   "execution_count": 12,
   "metadata": {},
   "outputs": [],
   "source": [
    "from sklearn.metrics import accuracy_score, f1_score\n",
    "\n",
    "score_vals = {}\n",
    "for score_f in [accuracy_score, f1_score]:\n",
    "    score_name = score_f.__name__\n",
    "    preds = y_preds\n",
    "    score_vals[score_name] = [score_f(y_test[:i], preds[:i]) for i in range(1, len(preds))]\n",
    "    \n",
    "    score_name = score_f.__name__ + '_fixedtrain'\n",
    "    preds = y_preds_fixedtrain\n",
    "    score_vals[score_name] = [score_f(y_test[:i], preds[:i]) for i in range(1, len(preds))]"
   ]
  },
  {
   "cell_type": "markdown",
   "metadata": {},
   "source": [
    "# Analyze results"
   ]
  },
  {
   "cell_type": "code",
   "execution_count": 13,
   "metadata": {},
   "outputs": [
    {
     "data": {
      "image/png": "[encoded data removed]",
      "text/plain": [
       "<Figure size 864x576 with 4 Axes>"
      ]
     },
     "metadata": {},
     "output_type": "display_data"
    }
   ],
   "source": [
    "import matplotlib.pyplot as plt\n",
    "plt.rcParams['figure.facecolor'] = (1,1,1,1)  # Replace default \"transparent\" background of the figure with the \"white\" one\n",
    "\n",
    "\n",
    "fig, axs = plt.subplots(2, 2, figsize=(12, 8))\n",
    "\n",
    "# First two plots are for prediction quality comparison\n",
    "for ax, t in zip(axs[0],['accuracy_score', 'f1_score']):\n",
    "    ax.set_ylim(0-0.05, 1+0.05)\n",
    "    ax.plot(range(n_train+1, len(X)), score_vals[t], label='baseline clf.')\n",
    "    ax.plot(range(n_train+1, len(X)), score_vals[t+'_fixedtrain'], label='baseline clf. (fixed train)')\n",
    "    \n",
    "# The third plot is for prediction speed comparison\n",
    "axs[1,0].plot(range(n_train, len(X)), t_preds, label='baseline clf.')\n",
    "axs[1,0].plot(range(n_train, len(X)), t_preds_fixedtrain, label='baseline clf. (fixed train)')\n",
    "\n",
    "# Add labels and titles to the plots\n",
    "for (ax, t_verb, dim) in zip(axs.flatten(), ['Accuracy score', 'F1 score', 'Prediction time'], ['','','(secs.)']):\n",
    "    ax.set_title('\\n'.join([f\"{t_verb} progression\", \"w.r.t. the number of train examples\"]), loc='left', size=18)\n",
    "    ax.set_xlabel('# of train examples', loc='right', size=14)\n",
    "    ax.set_ylabel(f\"{t_verb} {dim}\".strip(), loc='top', size=14)\n",
    "    ax.legend()\n",
    "    \n",
    "# Drop the predefined fourth plot since we do not use it\n",
    "axs[1,1].set_axis_off()    \n",
    "\n",
    "# Some postprocessing of plots\n",
    "plt.tight_layout()\n",
    "plt.subplots_adjust()\n",
    "\n",
    "plt.savefig('Classifier_comparison.png')\n",
    "plt.show()"
   ]
  },
  {
   "cell_type": "markdown",
   "metadata": {},
   "source": [
    "In conclusion:\n",
    "\n",
    "..."
   ]
  }
 ],
 "metadata": {
  "kernelspec": {
   "display_name": "Python 3",
   "language": "python",
   "name": "python3"
  },
  "language_info": {
   "codemirror_mode": {
    "name": "ipython",
    "version": 3
   },
   "file_extension": ".py",
   "mimetype": "text/x-python",
   "name": "python",
   "nbconvert_exporter": "python",
   "pygments_lexer": "ipython3",
   "version": "3.8.3"
  }
 },
 "nbformat": 4,
 "nbformat_minor": 1
}
