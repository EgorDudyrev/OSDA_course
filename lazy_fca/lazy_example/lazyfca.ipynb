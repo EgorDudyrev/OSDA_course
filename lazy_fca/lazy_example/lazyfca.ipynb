{
 "cells": [
  {
   "cell_type": "code",
   "execution_count": 1,
   "metadata": {},
   "outputs": [],
   "source": [
    "import numpy as np"
   ]
  },
  {
   "cell_type": "markdown",
   "metadata": {},
   "source": [
    "Load data"
   ]
  },
  {
   "cell_type": "code",
   "execution_count": 2,
   "metadata": {},
   "outputs": [],
   "source": [
    "import pandas as pd\n",
    "df_test = pd.read_csv('data/test1.csv', sep=',')\n",
    "df_train = pd.read_csv('data/train1.csv', sep=',')"
   ]
  },
  {
   "cell_type": "markdown",
   "metadata": {},
   "source": [
    "Binarize data"
   ]
  },
  {
   "cell_type": "code",
   "execution_count": 3,
   "metadata": {},
   "outputs": [],
   "source": [
    "import copy\n",
    "\n",
    "def dummy_encode_categorical_columns(data):\n",
    "    result_data = copy.deepcopy(data)\n",
    "    for column in data.columns.values:\n",
    "        result_data = pd.concat(\n",
    "            [result_data, pd.get_dummies(result_data[column], prefix = column, prefix_sep = ': ')],\n",
    "            axis = 1\n",
    "        )\n",
    "        del result_data[column]\n",
    "    return result_data"
   ]
  },
  {
   "cell_type": "code",
   "execution_count": 4,
   "metadata": {},
   "outputs": [],
   "source": [
    "def parse_file(name):\n",
    "    df = pd.read_csv(name, sep=',')\n",
    "    df = df.replace(to_replace='positive', value=1)\n",
    "    df = df.replace(to_replace='negative', value=0)\n",
    "    y = np.array(df['V10'])\n",
    "    del df['V10']\n",
    "    bin_df = dummy_encode_categorical_columns(df)\n",
    "    return np.array(bin_df).astype(int), y"
   ]
  },
  {
   "cell_type": "code",
   "execution_count": 5,
   "metadata": {},
   "outputs": [],
   "source": [
    "X_train, y_train = parse_file('data/train1.csv')\n",
    "X_test, y_test = parse_file('data/test1.csv')"
   ]
  },
  {
   "cell_type": "markdown",
   "metadata": {},
   "source": [
    "Split to train and test"
   ]
  },
  {
   "cell_type": "code",
   "execution_count": 6,
   "metadata": {},
   "outputs": [],
   "source": [
    "X_train_pos = X_train[y_train == 1]\n",
    "X_train_neg = X_train[y_train == 0]"
   ]
  },
  {
   "cell_type": "markdown",
   "metadata": {},
   "source": [
    "Make predictions"
   ]
  },
  {
   "cell_type": "code",
   "execution_count": 7,
   "metadata": {},
   "outputs": [],
   "source": [
    "y_pred = []\n",
    "for test_obj in X_test:\n",
    "    pos = np.sum(test_obj == X_train_pos) / float(len(X_train_pos))\n",
    "    neg = np.sum(test_obj == X_train_neg) / float(len(X_train_neg))\n",
    "    if (pos > neg):\n",
    "        y_pred.append(1)\n",
    "    else:\n",
    "        y_pred.append(0)\n",
    "\n",
    "y_pred = np.array(y_pred)"
   ]
  },
  {
   "cell_type": "markdown",
   "metadata": {},
   "source": [
    "Evaluate predictions"
   ]
  },
  {
   "cell_type": "code",
   "execution_count": 8,
   "metadata": {},
   "outputs": [],
   "source": [
    "from sklearn.metrics import accuracy_score\n",
    "from sklearn.metrics import precision_score\n",
    "from sklearn.metrics import recall_score"
   ]
  },
  {
   "cell_type": "code",
   "execution_count": 9,
   "metadata": {},
   "outputs": [],
   "source": [
    "TP = np.sum(y_test * y_pred)\n",
    "TN = np.sum(y_test + y_pred == 0)\n",
    "FP = np.sum((y_test  == 0) * (y_pred == 1))\n",
    "FN = np.sum((y_test  == 1) * (y_pred == 0))\n",
    "TPR = float(TP) / np.sum(y_test == 1)\n",
    "TNR = float(TN) / np.sum(y_test == 0)\n",
    "FPR = float(FP) / (TP + FN)\n",
    "NPV = float(TN) / (TN + FN)\n",
    "FDR = float(FP) / (TP + FP)\n",
    "acc = accuracy_score(y_test, y_pred)\n",
    "prec = precision_score(y_test, y_pred)\n",
    "rec = recall_score(y_test, y_pred)"
   ]
  },
  {
   "cell_type": "code",
   "execution_count": 10,
   "metadata": {},
   "outputs": [
    {
     "name": "stdout",
     "output_type": "stream",
     "text": [
      "True Positive: 34\n",
      "True Negative: 24\n",
      "False Positive: 8\n",
      "False Negative: 27\n",
      "True Positive Rate: 0.5574\n",
      "True Negative Rate: 0.7500\n",
      "Negative Predictive Value: 0.4706\n",
      "False Positive Rate: 0.1311\n",
      "False Discovery Rate: 0.1905\n",
      "Accuracy: 0.6237\n",
      "Precision: 0.8095\n",
      "Recall: 0.5574\n"
     ]
    }
   ],
   "source": [
    "measure_names = [\n",
    "    'True Positive', 'True Negative', 'False Positive', 'False Negative',\n",
    "    'True Positive Rate', 'True Negative Rate', 'Negative Predictive Value', 'False Positive Rate', 'False Discovery Rate',\n",
    "    'Accuracy', 'Precision', 'Recall'\n",
    "]\n",
    "measure_vals = [TP, TN, FP, FN, TPR, TNR, NPV, FPR, FDR, acc, prec, rec]\n",
    "\n",
    "for name, v in zip(measure_names, measure_vals):\n",
    "    v_verb = f\"{v:.0f}\" if int(v)==v else f\"{v:.4f}\"\n",
    "    print(f\"{name}: {v_verb}\")"
   ]
  }
 ],
 "metadata": {
  "kernelspec": {
   "display_name": "Python 3",
   "language": "python",
   "name": "python3"
  },
  "language_info": {
   "codemirror_mode": {
    "name": "ipython",
    "version": 3
   },
   "file_extension": ".py",
   "mimetype": "text/x-python",
   "name": "python",
   "nbconvert_exporter": "python",
   "pygments_lexer": "ipython3",
   "version": "3.8.3"
  }
 },
 "nbformat": 4,
 "nbformat_minor": 1
}
